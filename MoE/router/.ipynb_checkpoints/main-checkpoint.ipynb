{
 "cells": [
  {
   "cell_type": "code",
   "execution_count": 1,
   "id": "11ac16d1-da9b-4585-b3aa-4b29f741906b",
   "metadata": {},
   "outputs": [
    {
     "name": "stdout",
     "output_type": "stream",
     "text": [
      "the F1 score for 5-way classification: 0.24574613003095974\n"
     ]
    }
   ],
   "source": [
    "# import pickle\n",
    "from pickle5 import pickle\n",
    "import torch\n",
    "from torch import nn, optim\n",
    "from torch.autograd import Variable\n",
    "from sklearn.metrics import confusion_matrix, classification_report, f1_score, recall_score\n",
    "import torch.nn.functional as F\n",
    "import pandas as pd\n",
    "import numpy as np\n",
    "from torch.utils.data import TensorDataset, DataLoader, Dataset\n",
    "from sklearn.metrics import mean_absolute_error, mean_squared_error\n",
    "import math\n",
    "\n",
    "from util.test_data_processing import prepare_test_data\n",
    "from util.train_data_processing import prepare_training_data\n",
    "from util.train_model import train_model\n",
    "\n",
    "import csv\n",
    "\n",
    "\n",
    "def main_run(train_epochs, aug_0, aug_1, aug_2, aug_3, aug_4):\n",
    "    seed = 32\n",
    "    torch.manual_seed(seed)\n",
    "    torch.cuda.manual_seed(seed)\n",
    "    np.random.seed(seed)\n",
    "    torch.backends.cudnn.deterministic = True\n",
    "\n",
    "    sample_length = 42\n",
    "\n",
    "    device = torch.device(\"cuda:1\" if torch.cuda.is_available() else \"cpu\")\n",
    "\n",
    "    df = pd.read_csv('../../processed_data/Detailed_PHQ8_Labels.csv')\n",
    "    df['PHQ_5way'] = (df['PHQ_8Total'] / 5).astype(int)\n",
    "    all_labels = dict(zip(df['Participant_ID'], df['PHQ_5way']))\n",
    "\n",
    "    test_X, test_y, test_user_names = prepare_test_data(sample_length, all_labels)\n",
    "\n",
    "    tensor_X_train, tensor_y_train = prepare_training_data(all_labels, aug_0, aug_1, aug_2, aug_3, aug_4, sample_length)\n",
    "    trainDataset = TensorDataset(tensor_X_train, tensor_y_train)\n",
    "    trainLoader = DataLoader(trainDataset, batch_size=32, shuffle=True)\n",
    "\n",
    "    trained_model, pred = train_model(trainLoader, train_epochs, test_X, test_y, test_user_names)\n",
    "    torch.save(trained_model.state_dict(), 'trained_router_model.pth')\n",
    "\n",
    "    report = classification_report(test_y, pred, zero_division=0, digits=4)\n",
    "    five_way_f1 = f1_score(test_y, pred, average='macro')\n",
    "\n",
    "    print('the F1 score for 5-way classification:', five_way_f1)\n",
    "    return None\n",
    "\n",
    "params = {'scale': 5, 'train_epochs': 11}\n",
    "train_epochs = params['train_epochs']\n",
    "scale = params['scale']\n",
    "aug_0, aug_1, aug_2, aug_3, aug_4 = [element * scale for element in [1, 2, 3, 4, 12]]\n",
    "loss = main_run(train_epochs, aug_0, aug_1, aug_2, aug_3, aug_4)\n",
    "\n"
   ]
  }
 ],
 "metadata": {
  "kernelspec": {
   "display_name": "Python 3",
   "language": "python",
   "name": "python3"
  },
  "language_info": {
   "codemirror_mode": {
    "name": "ipython",
    "version": 3
   },
   "file_extension": ".py",
   "mimetype": "text/x-python",
   "name": "python",
   "nbconvert_exporter": "python",
   "pygments_lexer": "ipython3",
   "version": "3.6.9"
  }
 },
 "nbformat": 4,
 "nbformat_minor": 5
}
